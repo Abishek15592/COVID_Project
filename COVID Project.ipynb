{
 "cells": [
  {
   "cell_type": "markdown",
   "metadata": {},
   "source": [
    "# Importing necessary Libraries"
   ]
  },
  {
   "cell_type": "code",
   "execution_count": 62,
   "metadata": {},
   "outputs": [],
   "source": [
    "import pandas as pd\n",
    "import numpy as np\n",
    "import matplotlib.pyplot as plt"
   ]
  },
  {
   "cell_type": "markdown",
   "metadata": {},
   "source": [
    "# 1. Loading the Dataset"
   ]
  },
  {
   "cell_type": "code",
   "execution_count": 63,
   "metadata": {},
   "outputs": [],
   "source": [
    "data = pd.read_csv(\"https://covid.ourworldindata.org/data/owid-covid-data.csv\")"
   ]
  },
  {
   "cell_type": "markdown",
   "metadata": {},
   "source": [
    "# 2. Subsetting rows that have India as its location"
   ]
  },
  {
   "cell_type": "code",
   "execution_count": 64,
   "metadata": {},
   "outputs": [],
   "source": [
    "data = data[data[\"location\"] == \"India\"]"
   ]
  },
  {
   "cell_type": "code",
   "execution_count": 65,
   "metadata": {},
   "outputs": [
    {
     "data": {
      "text/html": [
       "<div>\n",
       "<style scoped>\n",
       "    .dataframe tbody tr th:only-of-type {\n",
       "        vertical-align: middle;\n",
       "    }\n",
       "\n",
       "    .dataframe tbody tr th {\n",
       "        vertical-align: top;\n",
       "    }\n",
       "\n",
       "    .dataframe thead th {\n",
       "        text-align: right;\n",
       "    }\n",
       "</style>\n",
       "<table border=\"1\" class=\"dataframe\">\n",
       "  <thead>\n",
       "    <tr style=\"text-align: right;\">\n",
       "      <th></th>\n",
       "      <th>iso_code</th>\n",
       "      <th>continent</th>\n",
       "      <th>location</th>\n",
       "      <th>date</th>\n",
       "      <th>total_cases</th>\n",
       "      <th>new_cases</th>\n",
       "      <th>total_deaths</th>\n",
       "      <th>new_deaths</th>\n",
       "      <th>total_cases_per_million</th>\n",
       "      <th>new_cases_per_million</th>\n",
       "      <th>...</th>\n",
       "      <th>aged_70_older</th>\n",
       "      <th>gdp_per_capita</th>\n",
       "      <th>extreme_poverty</th>\n",
       "      <th>cardiovasc_death_rate</th>\n",
       "      <th>diabetes_prevalence</th>\n",
       "      <th>female_smokers</th>\n",
       "      <th>male_smokers</th>\n",
       "      <th>handwashing_facilities</th>\n",
       "      <th>hospital_beds_per_thousand</th>\n",
       "      <th>life_expectancy</th>\n",
       "    </tr>\n",
       "  </thead>\n",
       "  <tbody>\n",
       "    <tr>\n",
       "      <td>15577</td>\n",
       "      <td>IND</td>\n",
       "      <td>Asia</td>\n",
       "      <td>India</td>\n",
       "      <td>2019-12-31</td>\n",
       "      <td>0.0</td>\n",
       "      <td>0.0</td>\n",
       "      <td>0.0</td>\n",
       "      <td>0.0</td>\n",
       "      <td>0.0</td>\n",
       "      <td>0.0</td>\n",
       "      <td>...</td>\n",
       "      <td>3.414</td>\n",
       "      <td>6426.674</td>\n",
       "      <td>21.2</td>\n",
       "      <td>282.28</td>\n",
       "      <td>10.39</td>\n",
       "      <td>1.9</td>\n",
       "      <td>20.6</td>\n",
       "      <td>59.55</td>\n",
       "      <td>0.53</td>\n",
       "      <td>69.66</td>\n",
       "    </tr>\n",
       "    <tr>\n",
       "      <td>15578</td>\n",
       "      <td>IND</td>\n",
       "      <td>Asia</td>\n",
       "      <td>India</td>\n",
       "      <td>2020-01-01</td>\n",
       "      <td>0.0</td>\n",
       "      <td>0.0</td>\n",
       "      <td>0.0</td>\n",
       "      <td>0.0</td>\n",
       "      <td>0.0</td>\n",
       "      <td>0.0</td>\n",
       "      <td>...</td>\n",
       "      <td>3.414</td>\n",
       "      <td>6426.674</td>\n",
       "      <td>21.2</td>\n",
       "      <td>282.28</td>\n",
       "      <td>10.39</td>\n",
       "      <td>1.9</td>\n",
       "      <td>20.6</td>\n",
       "      <td>59.55</td>\n",
       "      <td>0.53</td>\n",
       "      <td>69.66</td>\n",
       "    </tr>\n",
       "    <tr>\n",
       "      <td>15579</td>\n",
       "      <td>IND</td>\n",
       "      <td>Asia</td>\n",
       "      <td>India</td>\n",
       "      <td>2020-01-02</td>\n",
       "      <td>0.0</td>\n",
       "      <td>0.0</td>\n",
       "      <td>0.0</td>\n",
       "      <td>0.0</td>\n",
       "      <td>0.0</td>\n",
       "      <td>0.0</td>\n",
       "      <td>...</td>\n",
       "      <td>3.414</td>\n",
       "      <td>6426.674</td>\n",
       "      <td>21.2</td>\n",
       "      <td>282.28</td>\n",
       "      <td>10.39</td>\n",
       "      <td>1.9</td>\n",
       "      <td>20.6</td>\n",
       "      <td>59.55</td>\n",
       "      <td>0.53</td>\n",
       "      <td>69.66</td>\n",
       "    </tr>\n",
       "    <tr>\n",
       "      <td>15580</td>\n",
       "      <td>IND</td>\n",
       "      <td>Asia</td>\n",
       "      <td>India</td>\n",
       "      <td>2020-01-03</td>\n",
       "      <td>0.0</td>\n",
       "      <td>0.0</td>\n",
       "      <td>0.0</td>\n",
       "      <td>0.0</td>\n",
       "      <td>0.0</td>\n",
       "      <td>0.0</td>\n",
       "      <td>...</td>\n",
       "      <td>3.414</td>\n",
       "      <td>6426.674</td>\n",
       "      <td>21.2</td>\n",
       "      <td>282.28</td>\n",
       "      <td>10.39</td>\n",
       "      <td>1.9</td>\n",
       "      <td>20.6</td>\n",
       "      <td>59.55</td>\n",
       "      <td>0.53</td>\n",
       "      <td>69.66</td>\n",
       "    </tr>\n",
       "    <tr>\n",
       "      <td>15581</td>\n",
       "      <td>IND</td>\n",
       "      <td>Asia</td>\n",
       "      <td>India</td>\n",
       "      <td>2020-01-04</td>\n",
       "      <td>0.0</td>\n",
       "      <td>0.0</td>\n",
       "      <td>0.0</td>\n",
       "      <td>0.0</td>\n",
       "      <td>0.0</td>\n",
       "      <td>0.0</td>\n",
       "      <td>...</td>\n",
       "      <td>3.414</td>\n",
       "      <td>6426.674</td>\n",
       "      <td>21.2</td>\n",
       "      <td>282.28</td>\n",
       "      <td>10.39</td>\n",
       "      <td>1.9</td>\n",
       "      <td>20.6</td>\n",
       "      <td>59.55</td>\n",
       "      <td>0.53</td>\n",
       "      <td>69.66</td>\n",
       "    </tr>\n",
       "  </tbody>\n",
       "</table>\n",
       "<p>5 rows × 36 columns</p>\n",
       "</div>"
      ],
      "text/plain": [
       "      iso_code continent location        date  total_cases  new_cases  \\\n",
       "15577      IND      Asia    India  2019-12-31          0.0        0.0   \n",
       "15578      IND      Asia    India  2020-01-01          0.0        0.0   \n",
       "15579      IND      Asia    India  2020-01-02          0.0        0.0   \n",
       "15580      IND      Asia    India  2020-01-03          0.0        0.0   \n",
       "15581      IND      Asia    India  2020-01-04          0.0        0.0   \n",
       "\n",
       "       total_deaths  new_deaths  total_cases_per_million  \\\n",
       "15577           0.0         0.0                      0.0   \n",
       "15578           0.0         0.0                      0.0   \n",
       "15579           0.0         0.0                      0.0   \n",
       "15580           0.0         0.0                      0.0   \n",
       "15581           0.0         0.0                      0.0   \n",
       "\n",
       "       new_cases_per_million  ...  aged_70_older  gdp_per_capita  \\\n",
       "15577                    0.0  ...          3.414        6426.674   \n",
       "15578                    0.0  ...          3.414        6426.674   \n",
       "15579                    0.0  ...          3.414        6426.674   \n",
       "15580                    0.0  ...          3.414        6426.674   \n",
       "15581                    0.0  ...          3.414        6426.674   \n",
       "\n",
       "       extreme_poverty  cardiovasc_death_rate  diabetes_prevalence  \\\n",
       "15577             21.2                 282.28                10.39   \n",
       "15578             21.2                 282.28                10.39   \n",
       "15579             21.2                 282.28                10.39   \n",
       "15580             21.2                 282.28                10.39   \n",
       "15581             21.2                 282.28                10.39   \n",
       "\n",
       "       female_smokers  male_smokers  handwashing_facilities  \\\n",
       "15577             1.9          20.6                   59.55   \n",
       "15578             1.9          20.6                   59.55   \n",
       "15579             1.9          20.6                   59.55   \n",
       "15580             1.9          20.6                   59.55   \n",
       "15581             1.9          20.6                   59.55   \n",
       "\n",
       "       hospital_beds_per_thousand  life_expectancy  \n",
       "15577                        0.53            69.66  \n",
       "15578                        0.53            69.66  \n",
       "15579                        0.53            69.66  \n",
       "15580                        0.53            69.66  \n",
       "15581                        0.53            69.66  \n",
       "\n",
       "[5 rows x 36 columns]"
      ]
     },
     "execution_count": 65,
     "metadata": {},
     "output_type": "execute_result"
    }
   ],
   "source": [
    "data.head(5)"
   ]
  },
  {
   "cell_type": "markdown",
   "metadata": {},
   "source": [
    "# 3. Checking the null values"
   ]
  },
  {
   "cell_type": "code",
   "execution_count": 66,
   "metadata": {},
   "outputs": [
    {
     "data": {
      "text/plain": [
       "new_tests                          91\n",
       "total_tests                        85\n",
       "total_tests_per_thousand           85\n",
       "new_tests_per_thousand             91\n",
       "new_tests_smoothed                 80\n",
       "new_tests_smoothed_per_thousand    80\n",
       "tests_per_case                     80\n",
       "positive_rate                      80\n",
       "tests_units                        73\n",
       "stringency_index                    6\n",
       "dtype: int64"
      ]
     },
     "execution_count": 66,
     "metadata": {},
     "output_type": "execute_result"
    }
   ],
   "source": [
    "null_columns=data.columns[data.isnull().any()]\n",
    "data[null_columns].isnull().sum()"
   ]
  },
  {
   "cell_type": "markdown",
   "metadata": {},
   "source": [
    "### a. Dropping the entire column if more than 50% of its values are null"
   ]
  },
  {
   "cell_type": "code",
   "execution_count": 67,
   "metadata": {},
   "outputs": [
    {
     "name": "stdout",
     "output_type": "stream",
     "text": [
      "Shape of data before dropping: (225, 36)\n",
      "Shape of data after dropping: (225, 36)\n"
     ]
    }
   ],
   "source": [
    "print(\"Shape of data before dropping:\",data.shape)\n",
    "for i in null_columns:\n",
    "    if(data[i].isnull().sum()>data.shape[0]/2):\n",
    "        data[i].drop\n",
    "print(\"Shape of data after dropping:\",data.shape)"
   ]
  },
  {
   "cell_type": "markdown",
   "metadata": {},
   "source": [
    "### b. Finding all the numerical_column, ordinal_column and categorical_column and replacing those values by mean, mode and by mode respectively"
   ]
  },
  {
   "cell_type": "code",
   "execution_count": 68,
   "metadata": {},
   "outputs": [],
   "source": [
    "cols = data.columns\n",
    "num_cols = data._get_numeric_data().columns\n",
    "# list(num_cols)"
   ]
  },
  {
   "cell_type": "code",
   "execution_count": 69,
   "metadata": {},
   "outputs": [],
   "source": [
    "categorical = list(set(cols) - set(num_cols))\n",
    "# list(set(cols) - set(num_cols))"
   ]
  },
  {
   "cell_type": "code",
   "execution_count": 70,
   "metadata": {},
   "outputs": [],
   "source": [
    "numerical_column = [\"total_tests_per_thousand\",\"new_tests_per_thousand\",\"new_tests_smoothed_per_thousand\"]\n",
    "ordinal_column = [i for i in list(null_columns) if i not in numerical_column]\n",
    "categorical_column = [i for i in list(null_columns) if i in categorical]"
   ]
  },
  {
   "cell_type": "code",
   "execution_count": 71,
   "metadata": {},
   "outputs": [],
   "source": [
    "for i in numerical_column:\n",
    "    temp = data[i]\n",
    "    temp = temp.fillna(temp.mean(),inplace = True)\n",
    "    \n",
    "for i in ordinal_column:\n",
    "    temp = data[i]\n",
    "    temp = temp.fillna(temp.mode()[0],inplace = True)\n",
    "    \n",
    "for i in categorical_column:\n",
    "    temp = data[i]\n",
    "    temp = temp.fillna(temp.mode()[0],inplace = True)"
   ]
  },
  {
   "cell_type": "code",
   "execution_count": 72,
   "metadata": {},
   "outputs": [
    {
     "data": {
      "text/plain": [
       "iso_code                           0\n",
       "continent                          0\n",
       "location                           0\n",
       "date                               0\n",
       "total_cases                        0\n",
       "new_cases                          0\n",
       "total_deaths                       0\n",
       "new_deaths                         0\n",
       "total_cases_per_million            0\n",
       "new_cases_per_million              0\n",
       "total_deaths_per_million           0\n",
       "new_deaths_per_million             0\n",
       "new_tests                          0\n",
       "total_tests                        0\n",
       "total_tests_per_thousand           0\n",
       "new_tests_per_thousand             0\n",
       "new_tests_smoothed                 0\n",
       "new_tests_smoothed_per_thousand    0\n",
       "tests_per_case                     0\n",
       "positive_rate                      0\n",
       "tests_units                        0\n",
       "stringency_index                   0\n",
       "population                         0\n",
       "population_density                 0\n",
       "median_age                         0\n",
       "aged_65_older                      0\n",
       "aged_70_older                      0\n",
       "gdp_per_capita                     0\n",
       "extreme_poverty                    0\n",
       "cardiovasc_death_rate              0\n",
       "diabetes_prevalence                0\n",
       "female_smokers                     0\n",
       "male_smokers                       0\n",
       "handwashing_facilities             0\n",
       "hospital_beds_per_thousand         0\n",
       "life_expectancy                    0\n",
       "dtype: int64"
      ]
     },
     "execution_count": 72,
     "metadata": {},
     "output_type": "execute_result"
    }
   ],
   "source": [
    "data.isna().sum()"
   ]
  },
  {
   "cell_type": "markdown",
   "metadata": {},
   "source": [
    "# 4. Univariate Analysis:\n",
    "### a. Drawing histograms of 10 feature columns"
   ]
  },
  {
   "cell_type": "code",
   "execution_count": 73,
   "metadata": {},
   "outputs": [
    {
     "data": {
      "image/png": "[encoded data removed]",
      "text/plain": [
       "<Figure size 432x288 with 1 Axes>"
      ]
     },
     "metadata": {
      "needs_background": "light"
     },
     "output_type": "display_data"
    },
    {
     "data": {
      "image/png": "[encoded data removed]",
      "text/plain": [
       "<Figure size 432x288 with 1 Axes>"
      ]
     },
     "metadata": {
      "needs_background": "light"
     },
     "output_type": "display_data"
    },
    {
     "data": {
      "image/png": "[encoded data removed]",
      "text/plain": [
       "<Figure size 432x288 with 1 Axes>"
      ]
     },
     "metadata": {
      "needs_background": "light"
     },
     "output_type": "display_data"
    },
    {
     "data": {
      "image/png": "[encoded data removed]",
      "text/plain": [
       "<Figure size 432x288 with 1 Axes>"
      ]
     },
     "metadata": {
      "needs_background": "light"
     },
     "output_type": "display_data"
    },
    {
     "data": {
      "image/png": "[encoded data removed]",
      "text/plain": [
       "<Figure size 432x288 with 1 Axes>"
      ]
     },
     "metadata": {
      "needs_background": "light"
     },
     "output_type": "display_data"
    },
    {
     "data": {
      "image/png": "[encoded data removed]",
      "text/plain": [
       "<Figure size 432x288 with 1 Axes>"
      ]
     },
     "metadata": {
      "needs_background": "light"
     },
     "output_type": "display_data"
    },
    {
     "data": {
      "image/png": "[encoded data removed]",
      "text/plain": [
       "<Figure size 432x288 with 1 Axes>"
      ]
     },
     "metadata": {
      "needs_background": "light"
     },
     "output_type": "display_data"
    },
    {
     "data": {
      "image/png": "[encoded data removed]",
      "text/plain": [
       "<Figure size 432x288 with 1 Axes>"
      ]
     },
     "metadata": {
      "needs_background": "light"
     },
     "output_type": "display_data"
    },
    {
     "data": {
      "image/png": "[encoded data removed]",
      "text/plain": [
       "<Figure size 432x288 with 1 Axes>"
      ]
     },
     "metadata": {
      "needs_background": "light"
     },
     "output_type": "display_data"
    },
    {
     "data": {
      "image/png": "[encoded data removed]",
      "text/plain": [
       "<Figure size 432x288 with 1 Axes>"
      ]
     },
     "metadata": {
      "needs_background": "light"
     },
     "output_type": "display_data"
    },
    {
     "data": {
      "text/plain": [
       "<Figure size 432x288 with 0 Axes>"
      ]
     },
     "metadata": {},
     "output_type": "display_data"
    }
   ],
   "source": [
    "a=data[\"total_cases\"]\n",
    "b=data[\"total_deaths\"]\n",
    "c=data[\"new_deaths\"]\n",
    "d=data[\"new_tests\"]\n",
    "e=data[\"total_cases_per_million\"]\n",
    "f=data[\"new_cases_per_million\"]\n",
    "g=data[\"total_deaths_per_million\"]\n",
    "h=data[\"total_tests\"]\n",
    "i=data[\"new_tests_smoothed\"]\n",
    "j=data[\"new_tests_smoothed_per_thousand\"]\n",
    "\n",
    "title=\"total_cases\"\n",
    "plt.title(title)\n",
    "plt.hist(a,bins=20)\n",
    "plt.xlabel(\"total_cases Values\")\n",
    "plt.ylabel(\"Count of total_cases Values\")\n",
    "plt.show()\n",
    "plt.clf()\n",
    "\n",
    "title=\"total_deaths\"\n",
    "plt.title(title)\n",
    "plt.hist(c,bins=20)\n",
    "plt.xlabel(\"total_deaths Values\")\n",
    "plt.ylabel(\"Count of total_deaths Values\")\n",
    "plt.show()\n",
    "plt.clf()\n",
    "\n",
    "title=\"new_deaths\"\n",
    "plt.title(title)\n",
    "plt.hist(d,bins=20)\n",
    "plt.xlabel(\"new_deaths Values\")\n",
    "plt.ylabel(\"Count of new_deaths Values\")\n",
    "plt.show()\n",
    "plt.clf()\n",
    "\n",
    "title=\"new_tests\"\n",
    "plt.title(title)\n",
    "plt.hist(e,bins=20)\n",
    "plt.xlabel(\"new_tests Values\")\n",
    "plt.ylabel(\"Count of new_tests Values\")\n",
    "plt.show()\n",
    "plt.clf()\n",
    "\n",
    "title=\"total_cases_per_million\"\n",
    "plt.title(title)\n",
    "plt.hist(f,bins=20)\n",
    "plt.xlabel(\"total_cases_per_million Values\")\n",
    "plt.ylabel(\"Count of total_cases_per_million Values\")\n",
    "plt.show()\n",
    "plt.clf()\n",
    "\n",
    "title=\"new_cases_per_million\"\n",
    "plt.title(title)\n",
    "plt.hist(f,bins=20)\n",
    "plt.xlabel(\"new_cases_per_million Values\")\n",
    "plt.ylabel(\"Count of new_cases_per_million Values\")\n",
    "plt.show()\n",
    "plt.clf()\n",
    "\n",
    "title=\"total_deaths_per_million\"\n",
    "plt.title(title)\n",
    "plt.hist(f,bins=20)\n",
    "plt.xlabel(\"total_deaths_per_million Values\")\n",
    "plt.ylabel(\"Count of total_deaths_per_million Values\")\n",
    "plt.show()\n",
    "plt.clf()\n",
    "\n",
    "title=\"total_tests\"\n",
    "plt.title(title)\n",
    "plt.hist(f,bins=20)\n",
    "plt.xlabel(\"total_tests Values\")\n",
    "plt.ylabel(\"Count of total_tests Values\")\n",
    "plt.show()\n",
    "plt.clf()\n",
    "\n",
    "title=\"new_tests_smoothed\"\n",
    "plt.title(title)\n",
    "plt.hist(f,bins=20)\n",
    "plt.xlabel(\"new_tests_smoothed Values\")\n",
    "plt.ylabel(\"Count of new_tests_smoothed Values\")\n",
    "plt.show()\n",
    "plt.clf()\n",
    "\n",
    "title=\"new_tests_smoothed_per_thousand\"\n",
    "plt.title(title)\n",
    "plt.hist(f,bins=20)\n",
    "plt.xlabel(\"new_tests_smoothed_per_thousand Values\")\n",
    "plt.ylabel(\"Count of new_tests_smoothed_per_thousand\")\n",
    "plt.show()\n",
    "plt.clf()"
   ]
  },
  {
   "cell_type": "markdown",
   "metadata": {},
   "source": [
    "### b. Finding mean, median and mode of each column"
   ]
  },
  {
   "cell_type": "code",
   "execution_count": 74,
   "metadata": {},
   "outputs": [
    {
     "data": {
      "text/plain": [
       "total_cases                        3.098122e+05\n",
       "new_cases                          1.035395e+04\n",
       "total_deaths                       7.603978e+03\n",
       "new_deaths                         2.048489e+02\n",
       "total_cases_per_million            2.245008e+02\n",
       "new_cases_per_million              7.502831e+00\n",
       "total_deaths_per_million           5.510116e+00\n",
       "new_deaths_per_million             1.484311e-01\n",
       "new_tests                          1.118278e+05\n",
       "total_tests                        4.035084e+06\n",
       "total_tests_per_thousand           4.696386e+00\n",
       "new_tests_per_thousand             1.360075e-01\n",
       "new_tests_smoothed                 1.043423e+05\n",
       "new_tests_smoothed_per_thousand    1.168690e-01\n",
       "tests_per_case                     1.502540e+01\n",
       "positive_rate                      5.833333e-02\n",
       "stringency_index                   5.697627e+01\n",
       "population                         1.380004e+09\n",
       "population_density                 4.504190e+02\n",
       "median_age                         2.820000e+01\n",
       "aged_65_older                      5.989000e+00\n",
       "aged_70_older                      3.414000e+00\n",
       "gdp_per_capita                     6.426674e+03\n",
       "extreme_poverty                    2.120000e+01\n",
       "cardiovasc_death_rate              2.822800e+02\n",
       "diabetes_prevalence                1.039000e+01\n",
       "female_smokers                     1.900000e+00\n",
       "male_smokers                       2.060000e+01\n",
       "handwashing_facilities             5.955000e+01\n",
       "hospital_beds_per_thousand         5.300000e-01\n",
       "life_expectancy                    6.966000e+01\n",
       "dtype: float64"
      ]
     },
     "execution_count": 74,
     "metadata": {},
     "output_type": "execute_result"
    }
   ],
   "source": [
    "data.mean()"
   ]
  },
  {
   "cell_type": "code",
   "execution_count": 75,
   "metadata": {},
   "outputs": [
    {
     "data": {
      "text/plain": [
       "total_cases                        1.998400e+04\n",
       "new_cases                          1.396000e+03\n",
       "total_deaths                       6.400000e+02\n",
       "new_deaths                         4.300000e+01\n",
       "total_cases_per_million            1.448100e+01\n",
       "new_cases_per_million              1.012000e+00\n",
       "total_deaths_per_million           4.640000e-01\n",
       "new_deaths_per_million             3.100000e-02\n",
       "new_tests                          2.970600e+04\n",
       "total_tests                        4.015860e+05\n",
       "total_tests_per_thousand           4.696386e+00\n",
       "new_tests_per_thousand             1.360075e-01\n",
       "new_tests_smoothed                 2.952400e+04\n",
       "new_tests_smoothed_per_thousand    1.168690e-01\n",
       "tests_per_case                     1.049700e+01\n",
       "positive_rate                      4.300000e-02\n",
       "stringency_index                   7.639000e+01\n",
       "population                         1.380004e+09\n",
       "population_density                 4.504190e+02\n",
       "median_age                         2.820000e+01\n",
       "aged_65_older                      5.989000e+00\n",
       "aged_70_older                      3.414000e+00\n",
       "gdp_per_capita                     6.426674e+03\n",
       "extreme_poverty                    2.120000e+01\n",
       "cardiovasc_death_rate              2.822800e+02\n",
       "diabetes_prevalence                1.039000e+01\n",
       "female_smokers                     1.900000e+00\n",
       "male_smokers                       2.060000e+01\n",
       "handwashing_facilities             5.955000e+01\n",
       "hospital_beds_per_thousand         5.300000e-01\n",
       "life_expectancy                    6.966000e+01\n",
       "dtype: float64"
      ]
     },
     "execution_count": 75,
     "metadata": {},
     "output_type": "execute_result"
    }
   ],
   "source": [
    "data.median()"
   ]
  },
  {
   "cell_type": "code",
   "execution_count": 76,
   "metadata": {},
   "outputs": [
    {
     "data": {
      "text/html": [
       "<div>\n",
       "<style scoped>\n",
       "    .dataframe tbody tr th:only-of-type {\n",
       "        vertical-align: middle;\n",
       "    }\n",
       "\n",
       "    .dataframe tbody tr th {\n",
       "        vertical-align: top;\n",
       "    }\n",
       "\n",
       "    .dataframe thead th {\n",
       "        text-align: right;\n",
       "    }\n",
       "</style>\n",
       "<table border=\"1\" class=\"dataframe\">\n",
       "  <thead>\n",
       "    <tr style=\"text-align: right;\">\n",
       "      <th></th>\n",
       "      <th>iso_code</th>\n",
       "      <th>continent</th>\n",
       "      <th>location</th>\n",
       "      <th>date</th>\n",
       "      <th>total_cases</th>\n",
       "      <th>new_cases</th>\n",
       "      <th>total_deaths</th>\n",
       "      <th>new_deaths</th>\n",
       "      <th>total_cases_per_million</th>\n",
       "      <th>new_cases_per_million</th>\n",
       "      <th>...</th>\n",
       "      <th>aged_70_older</th>\n",
       "      <th>gdp_per_capita</th>\n",
       "      <th>extreme_poverty</th>\n",
       "      <th>cardiovasc_death_rate</th>\n",
       "      <th>diabetes_prevalence</th>\n",
       "      <th>female_smokers</th>\n",
       "      <th>male_smokers</th>\n",
       "      <th>handwashing_facilities</th>\n",
       "      <th>hospital_beds_per_thousand</th>\n",
       "      <th>life_expectancy</th>\n",
       "    </tr>\n",
       "  </thead>\n",
       "  <tbody>\n",
       "    <tr>\n",
       "      <td>0</td>\n",
       "      <td>IND</td>\n",
       "      <td>Asia</td>\n",
       "      <td>India</td>\n",
       "      <td>2019-12-31</td>\n",
       "      <td>0.0</td>\n",
       "      <td>0.0</td>\n",
       "      <td>0.0</td>\n",
       "      <td>0.0</td>\n",
       "      <td>0.0</td>\n",
       "      <td>0.0</td>\n",
       "      <td>...</td>\n",
       "      <td>3.414</td>\n",
       "      <td>6426.674</td>\n",
       "      <td>21.2</td>\n",
       "      <td>282.28</td>\n",
       "      <td>10.39</td>\n",
       "      <td>1.9</td>\n",
       "      <td>20.6</td>\n",
       "      <td>59.55</td>\n",
       "      <td>0.53</td>\n",
       "      <td>69.66</td>\n",
       "    </tr>\n",
       "    <tr>\n",
       "      <td>1</td>\n",
       "      <td>NaN</td>\n",
       "      <td>NaN</td>\n",
       "      <td>NaN</td>\n",
       "      <td>2020-01-01</td>\n",
       "      <td>NaN</td>\n",
       "      <td>NaN</td>\n",
       "      <td>NaN</td>\n",
       "      <td>NaN</td>\n",
       "      <td>NaN</td>\n",
       "      <td>NaN</td>\n",
       "      <td>...</td>\n",
       "      <td>NaN</td>\n",
       "      <td>NaN</td>\n",
       "      <td>NaN</td>\n",
       "      <td>NaN</td>\n",
       "      <td>NaN</td>\n",
       "      <td>NaN</td>\n",
       "      <td>NaN</td>\n",
       "      <td>NaN</td>\n",
       "      <td>NaN</td>\n",
       "      <td>NaN</td>\n",
       "    </tr>\n",
       "    <tr>\n",
       "      <td>2</td>\n",
       "      <td>NaN</td>\n",
       "      <td>NaN</td>\n",
       "      <td>NaN</td>\n",
       "      <td>2020-01-02</td>\n",
       "      <td>NaN</td>\n",
       "      <td>NaN</td>\n",
       "      <td>NaN</td>\n",
       "      <td>NaN</td>\n",
       "      <td>NaN</td>\n",
       "      <td>NaN</td>\n",
       "      <td>...</td>\n",
       "      <td>NaN</td>\n",
       "      <td>NaN</td>\n",
       "      <td>NaN</td>\n",
       "      <td>NaN</td>\n",
       "      <td>NaN</td>\n",
       "      <td>NaN</td>\n",
       "      <td>NaN</td>\n",
       "      <td>NaN</td>\n",
       "      <td>NaN</td>\n",
       "      <td>NaN</td>\n",
       "    </tr>\n",
       "    <tr>\n",
       "      <td>3</td>\n",
       "      <td>NaN</td>\n",
       "      <td>NaN</td>\n",
       "      <td>NaN</td>\n",
       "      <td>2020-01-03</td>\n",
       "      <td>NaN</td>\n",
       "      <td>NaN</td>\n",
       "      <td>NaN</td>\n",
       "      <td>NaN</td>\n",
       "      <td>NaN</td>\n",
       "      <td>NaN</td>\n",
       "      <td>...</td>\n",
       "      <td>NaN</td>\n",
       "      <td>NaN</td>\n",
       "      <td>NaN</td>\n",
       "      <td>NaN</td>\n",
       "      <td>NaN</td>\n",
       "      <td>NaN</td>\n",
       "      <td>NaN</td>\n",
       "      <td>NaN</td>\n",
       "      <td>NaN</td>\n",
       "      <td>NaN</td>\n",
       "    </tr>\n",
       "    <tr>\n",
       "      <td>4</td>\n",
       "      <td>NaN</td>\n",
       "      <td>NaN</td>\n",
       "      <td>NaN</td>\n",
       "      <td>2020-01-04</td>\n",
       "      <td>NaN</td>\n",
       "      <td>NaN</td>\n",
       "      <td>NaN</td>\n",
       "      <td>NaN</td>\n",
       "      <td>NaN</td>\n",
       "      <td>NaN</td>\n",
       "      <td>...</td>\n",
       "      <td>NaN</td>\n",
       "      <td>NaN</td>\n",
       "      <td>NaN</td>\n",
       "      <td>NaN</td>\n",
       "      <td>NaN</td>\n",
       "      <td>NaN</td>\n",
       "      <td>NaN</td>\n",
       "      <td>NaN</td>\n",
       "      <td>NaN</td>\n",
       "      <td>NaN</td>\n",
       "    </tr>\n",
       "    <tr>\n",
       "      <td>...</td>\n",
       "      <td>...</td>\n",
       "      <td>...</td>\n",
       "      <td>...</td>\n",
       "      <td>...</td>\n",
       "      <td>...</td>\n",
       "      <td>...</td>\n",
       "      <td>...</td>\n",
       "      <td>...</td>\n",
       "      <td>...</td>\n",
       "      <td>...</td>\n",
       "      <td>...</td>\n",
       "      <td>...</td>\n",
       "      <td>...</td>\n",
       "      <td>...</td>\n",
       "      <td>...</td>\n",
       "      <td>...</td>\n",
       "      <td>...</td>\n",
       "      <td>...</td>\n",
       "      <td>...</td>\n",
       "      <td>...</td>\n",
       "      <td>...</td>\n",
       "    </tr>\n",
       "    <tr>\n",
       "      <td>220</td>\n",
       "      <td>NaN</td>\n",
       "      <td>NaN</td>\n",
       "      <td>NaN</td>\n",
       "      <td>2020-08-08</td>\n",
       "      <td>NaN</td>\n",
       "      <td>NaN</td>\n",
       "      <td>NaN</td>\n",
       "      <td>NaN</td>\n",
       "      <td>NaN</td>\n",
       "      <td>NaN</td>\n",
       "      <td>...</td>\n",
       "      <td>NaN</td>\n",
       "      <td>NaN</td>\n",
       "      <td>NaN</td>\n",
       "      <td>NaN</td>\n",
       "      <td>NaN</td>\n",
       "      <td>NaN</td>\n",
       "      <td>NaN</td>\n",
       "      <td>NaN</td>\n",
       "      <td>NaN</td>\n",
       "      <td>NaN</td>\n",
       "    </tr>\n",
       "    <tr>\n",
       "      <td>221</td>\n",
       "      <td>NaN</td>\n",
       "      <td>NaN</td>\n",
       "      <td>NaN</td>\n",
       "      <td>2020-08-09</td>\n",
       "      <td>NaN</td>\n",
       "      <td>NaN</td>\n",
       "      <td>NaN</td>\n",
       "      <td>NaN</td>\n",
       "      <td>NaN</td>\n",
       "      <td>NaN</td>\n",
       "      <td>...</td>\n",
       "      <td>NaN</td>\n",
       "      <td>NaN</td>\n",
       "      <td>NaN</td>\n",
       "      <td>NaN</td>\n",
       "      <td>NaN</td>\n",
       "      <td>NaN</td>\n",
       "      <td>NaN</td>\n",
       "      <td>NaN</td>\n",
       "      <td>NaN</td>\n",
       "      <td>NaN</td>\n",
       "    </tr>\n",
       "    <tr>\n",
       "      <td>222</td>\n",
       "      <td>NaN</td>\n",
       "      <td>NaN</td>\n",
       "      <td>NaN</td>\n",
       "      <td>2020-08-10</td>\n",
       "      <td>NaN</td>\n",
       "      <td>NaN</td>\n",
       "      <td>NaN</td>\n",
       "      <td>NaN</td>\n",
       "      <td>NaN</td>\n",
       "      <td>NaN</td>\n",
       "      <td>...</td>\n",
       "      <td>NaN</td>\n",
       "      <td>NaN</td>\n",
       "      <td>NaN</td>\n",
       "      <td>NaN</td>\n",
       "      <td>NaN</td>\n",
       "      <td>NaN</td>\n",
       "      <td>NaN</td>\n",
       "      <td>NaN</td>\n",
       "      <td>NaN</td>\n",
       "      <td>NaN</td>\n",
       "    </tr>\n",
       "    <tr>\n",
       "      <td>223</td>\n",
       "      <td>NaN</td>\n",
       "      <td>NaN</td>\n",
       "      <td>NaN</td>\n",
       "      <td>2020-08-11</td>\n",
       "      <td>NaN</td>\n",
       "      <td>NaN</td>\n",
       "      <td>NaN</td>\n",
       "      <td>NaN</td>\n",
       "      <td>NaN</td>\n",
       "      <td>NaN</td>\n",
       "      <td>...</td>\n",
       "      <td>NaN</td>\n",
       "      <td>NaN</td>\n",
       "      <td>NaN</td>\n",
       "      <td>NaN</td>\n",
       "      <td>NaN</td>\n",
       "      <td>NaN</td>\n",
       "      <td>NaN</td>\n",
       "      <td>NaN</td>\n",
       "      <td>NaN</td>\n",
       "      <td>NaN</td>\n",
       "    </tr>\n",
       "    <tr>\n",
       "      <td>224</td>\n",
       "      <td>NaN</td>\n",
       "      <td>NaN</td>\n",
       "      <td>NaN</td>\n",
       "      <td>2020-08-12</td>\n",
       "      <td>NaN</td>\n",
       "      <td>NaN</td>\n",
       "      <td>NaN</td>\n",
       "      <td>NaN</td>\n",
       "      <td>NaN</td>\n",
       "      <td>NaN</td>\n",
       "      <td>...</td>\n",
       "      <td>NaN</td>\n",
       "      <td>NaN</td>\n",
       "      <td>NaN</td>\n",
       "      <td>NaN</td>\n",
       "      <td>NaN</td>\n",
       "      <td>NaN</td>\n",
       "      <td>NaN</td>\n",
       "      <td>NaN</td>\n",
       "      <td>NaN</td>\n",
       "      <td>NaN</td>\n",
       "    </tr>\n",
       "  </tbody>\n",
       "</table>\n",
       "<p>225 rows × 36 columns</p>\n",
       "</div>"
      ],
      "text/plain": [
       "    iso_code continent location        date  total_cases  new_cases  \\\n",
       "0        IND      Asia    India  2019-12-31          0.0        0.0   \n",
       "1        NaN       NaN      NaN  2020-01-01          NaN        NaN   \n",
       "2        NaN       NaN      NaN  2020-01-02          NaN        NaN   \n",
       "3        NaN       NaN      NaN  2020-01-03          NaN        NaN   \n",
       "4        NaN       NaN      NaN  2020-01-04          NaN        NaN   \n",
       "..       ...       ...      ...         ...          ...        ...   \n",
       "220      NaN       NaN      NaN  2020-08-08          NaN        NaN   \n",
       "221      NaN       NaN      NaN  2020-08-09          NaN        NaN   \n",
       "222      NaN       NaN      NaN  2020-08-10          NaN        NaN   \n",
       "223      NaN       NaN      NaN  2020-08-11          NaN        NaN   \n",
       "224      NaN       NaN      NaN  2020-08-12          NaN        NaN   \n",
       "\n",
       "     total_deaths  new_deaths  total_cases_per_million  new_cases_per_million  \\\n",
       "0             0.0         0.0                      0.0                    0.0   \n",
       "1             NaN         NaN                      NaN                    NaN   \n",
       "2             NaN         NaN                      NaN                    NaN   \n",
       "3             NaN         NaN                      NaN                    NaN   \n",
       "4             NaN         NaN                      NaN                    NaN   \n",
       "..            ...         ...                      ...                    ...   \n",
       "220           NaN         NaN                      NaN                    NaN   \n",
       "221           NaN         NaN                      NaN                    NaN   \n",
       "222           NaN         NaN                      NaN                    NaN   \n",
       "223           NaN         NaN                      NaN                    NaN   \n",
       "224           NaN         NaN                      NaN                    NaN   \n",
       "\n",
       "     ...  aged_70_older  gdp_per_capita  extreme_poverty  \\\n",
       "0    ...          3.414        6426.674             21.2   \n",
       "1    ...            NaN             NaN              NaN   \n",
       "2    ...            NaN             NaN              NaN   \n",
       "3    ...            NaN             NaN              NaN   \n",
       "4    ...            NaN             NaN              NaN   \n",
       "..   ...            ...             ...              ...   \n",
       "220  ...            NaN             NaN              NaN   \n",
       "221  ...            NaN             NaN              NaN   \n",
       "222  ...            NaN             NaN              NaN   \n",
       "223  ...            NaN             NaN              NaN   \n",
       "224  ...            NaN             NaN              NaN   \n",
       "\n",
       "     cardiovasc_death_rate  diabetes_prevalence  female_smokers  male_smokers  \\\n",
       "0                   282.28                10.39             1.9          20.6   \n",
       "1                      NaN                  NaN             NaN           NaN   \n",
       "2                      NaN                  NaN             NaN           NaN   \n",
       "3                      NaN                  NaN             NaN           NaN   \n",
       "4                      NaN                  NaN             NaN           NaN   \n",
       "..                     ...                  ...             ...           ...   \n",
       "220                    NaN                  NaN             NaN           NaN   \n",
       "221                    NaN                  NaN             NaN           NaN   \n",
       "222                    NaN                  NaN             NaN           NaN   \n",
       "223                    NaN                  NaN             NaN           NaN   \n",
       "224                    NaN                  NaN             NaN           NaN   \n",
       "\n",
       "     handwashing_facilities  hospital_beds_per_thousand  life_expectancy  \n",
       "0                     59.55                        0.53            69.66  \n",
       "1                       NaN                         NaN              NaN  \n",
       "2                       NaN                         NaN              NaN  \n",
       "3                       NaN                         NaN              NaN  \n",
       "4                       NaN                         NaN              NaN  \n",
       "..                      ...                         ...              ...  \n",
       "220                     NaN                         NaN              NaN  \n",
       "221                     NaN                         NaN              NaN  \n",
       "222                     NaN                         NaN              NaN  \n",
       "223                     NaN                         NaN              NaN  \n",
       "224                     NaN                         NaN              NaN  \n",
       "\n",
       "[225 rows x 36 columns]"
      ]
     },
     "execution_count": 76,
     "metadata": {},
     "output_type": "execute_result"
    }
   ],
   "source": [
    "data.mode()"
   ]
  },
  {
   "cell_type": "markdown",
   "metadata": {},
   "source": [
    "# 5. Bivariate Analysis:\n",
    "### a. Drawing scatter plots of target column versus 10 features"
   ]
  },
  {
   "cell_type": "code",
   "execution_count": 83,
   "metadata": {},
   "outputs": [
    {
     "data": {
      "image/png": "[encoded data removed]",
      "text/plain": [
       "<Figure size 432x288 with 1 Axes>"
      ]
     },
     "metadata": {
      "needs_background": "light"
     },
     "output_type": "display_data"
    },
    {
     "data": {
      "image/png": "[encoded data removed]",
      "text/plain": [
       "<Figure size 432x288 with 1 Axes>"
      ]
     },
     "metadata": {
      "needs_background": "light"
     },
     "output_type": "display_data"
    },
    {
     "data": {
      "image/png": "[encoded data removed]",
      "text/plain": [
       "<Figure size 432x288 with 1 Axes>"
      ]
     },
     "metadata": {
      "needs_background": "light"
     },
     "output_type": "display_data"
    },
    {
     "data": {
      "image/png": "[encoded data removed]",
      "text/plain": [
       "<Figure size 432x288 with 1 Axes>"
      ]
     },
     "metadata": {
      "needs_background": "light"
     },
     "output_type": "display_data"
    },
    {
     "data": {
      "image/png": "[encoded data removed]",
      "text/plain": [
       "<Figure size 432x288 with 1 Axes>"
      ]
     },
     "metadata": {
      "needs_background": "light"
     },
     "output_type": "display_data"
    },
    {
     "data": {
      "image/png": "[encoded data removed]",
      "text/plain": [
       "<Figure size 432x288 with 1 Axes>"
      ]
     },
     "metadata": {
      "needs_background": "light"
     },
     "output_type": "display_data"
    },
    {
     "data": {
      "image/png": "[encoded data removed]",
      "text/plain": [
       "<Figure size 432x288 with 1 Axes>"
      ]
     },
     "metadata": {
      "needs_background": "light"
     },
     "output_type": "display_data"
    },
    {
     "data": {
      "image/png": "[encoded data removed]",
      "text/plain": [
       "<Figure size 432x288 with 1 Axes>"
      ]
     },
     "metadata": {
      "needs_background": "light"
     },
     "output_type": "display_data"
    },
    {
     "data": {
      "image/png": "[encoded data removed]",
      "text/plain": [
       "<Figure size 432x288 with 1 Axes>"
      ]
     },
     "metadata": {
      "needs_background": "light"
     },
     "output_type": "display_data"
    },
    {
     "data": {
      "image/png": "[encoded data removed]",
      "text/plain": [
       "<Figure size 432x288 with 1 Axes>"
      ]
     },
     "metadata": {
      "needs_background": "light"
     },
     "output_type": "display_data"
    },
    {
     "data": {
      "text/plain": [
       "<Figure size 432x288 with 0 Axes>"
      ]
     },
     "metadata": {},
     "output_type": "display_data"
    }
   ],
   "source": [
    "plt.scatter(data['total_cases'],data['new_cases'])\n",
    "plt.xlabel('total_cases')\n",
    "plt.ylabel('new_cases')\n",
    "plt.show()\n",
    "plt.clf()\n",
    "      \n",
    "\n",
    "plt.scatter(data['total_cases'],data['total_deaths'])\n",
    "plt.xlabel('total_cases')\n",
    "plt.ylabel('total_deaths')\n",
    "plt.show()\n",
    "plt.clf()\n",
    "\n",
    "\n",
    "plt.scatter(data['total_cases'],data['new_deaths'])\n",
    "plt.xlabel('total_cases')\n",
    "plt.ylabel('new_deaths')\n",
    "plt.show()\n",
    "plt.clf()\n",
    "            \n",
    "plt.scatter(data['total_cases'],data['total_cases_per_million'])\n",
    "plt.xlabel('total_cases')\n",
    "plt.ylabel('total_cases_per_million')\n",
    "plt.show()\n",
    "plt.clf()\n",
    "\n",
    "plt.scatter(data['total_cases'],data['stringency_index'])\n",
    "plt.xlabel('total_cases')\n",
    "plt.ylabel('stringency_index')\n",
    "plt.show()\n",
    "plt.clf()\n",
    "\n",
    "plt.scatter(data['total_cases'],data['positive_rate'])\n",
    "plt.xlabel('total_cases')\n",
    "plt.ylabel('positive_rate')\n",
    "plt.show()\n",
    "plt.clf()\n",
    "\n",
    "plt.scatter(data['total_cases'],data['new_tests_per_thousand'])\n",
    "plt.xlabel('total_cases')\n",
    "plt.ylabel('new_tests_per_thousand')\n",
    "plt.show()\n",
    "plt.clf()\n",
    "\n",
    "plt.scatter(data['total_cases'],data['tests_per_case'])\n",
    "plt.xlabel('total_cases')\n",
    "plt.ylabel('tests_per_case')\n",
    "plt.show()\n",
    "plt.clf()\n",
    "\n",
    "plt.scatter(data['total_cases'],data['new_cases_per_million'])\n",
    "plt.xlabel('total_cases')\n",
    "plt.ylabel('new_cases_per_million')\n",
    "plt.show()\n",
    "plt.clf()\n",
    "\n",
    "plt.scatter(data['total_cases'],data['total_deaths_per_million'])\n",
    "plt.xlabel('total_cases')\n",
    "plt.ylabel('total_deaths_per_million')\n",
    "plt.show()\n",
    "plt.clf()"
   ]
  },
  {
   "cell_type": "markdown",
   "metadata": {},
   "source": [
    "### b. Drawing line plots of target column versus 10 features"
   ]
  },
  {
   "cell_type": "code",
   "execution_count": 84,
   "metadata": {},
   "outputs": [
    {
     "data": {
      "image/png": "[encoded data removed]",
      "text/plain": [
       "<Figure size 432x288 with 1 Axes>"
      ]
     },
     "metadata": {
      "needs_background": "light"
     },
     "output_type": "display_data"
    },
    {
     "data": {
      "image/png": "[encoded data removed]",
      "text/plain": [
       "<Figure size 432x288 with 1 Axes>"
      ]
     },
     "metadata": {
      "needs_background": "light"
     },
     "output_type": "display_data"
    },
    {
     "data": {
      "image/png": "[encoded data removed]",
      "text/plain": [
       "<Figure size 432x288 with 1 Axes>"
      ]
     },
     "metadata": {
      "needs_background": "light"
     },
     "output_type": "display_data"
    },
    {
     "data": {
      "image/png": "[encoded data removed]",
      "text/plain": [
       "<Figure size 432x288 with 1 Axes>"
      ]
     },
     "metadata": {
      "needs_background": "light"
     },
     "output_type": "display_data"
    },
    {
     "data": {
      "image/png": "[encoded data removed]",
      "text/plain": [
       "<Figure size 432x288 with 1 Axes>"
      ]
     },
     "metadata": {
      "needs_background": "light"
     },
     "output_type": "display_data"
    },
    {
     "data": {
      "image/png": "[encoded data removed]",
      "text/plain": [
       "<Figure size 432x288 with 1 Axes>"
      ]
     },
     "metadata": {
      "needs_background": "light"
     },
     "output_type": "display_data"
    },
    {
     "data": {
      "image/png": "[encoded data removed]",
      "text/plain": [
       "<Figure size 432x288 with 1 Axes>"
      ]
     },
     "metadata": {
      "needs_background": "light"
     },
     "output_type": "display_data"
    },
    {
     "data": {
      "image/png": "[encoded data removed]",
      "text/plain": [
       "<Figure size 432x288 with 1 Axes>"
      ]
     },
     "metadata": {
      "needs_background": "light"
     },
     "output_type": "display_data"
    },
    {
     "data": {
      "image/png": "[encoded data removed]",
      "text/plain": [
       "<Figure size 432x288 with 1 Axes>"
      ]
     },
     "metadata": {
      "needs_background": "light"
     },
     "output_type": "display_data"
    },
    {
     "data": {
      "image/png": "[encoded data removed]",
      "text/plain": [
       "<Figure size 432x288 with 1 Axes>"
      ]
     },
     "metadata": {
      "needs_background": "light"
     },
     "output_type": "display_data"
    },
    {
     "data": {
      "text/plain": [
       "<Figure size 432x288 with 0 Axes>"
      ]
     },
     "metadata": {},
     "output_type": "display_data"
    }
   ],
   "source": [
    "plt.plot(data['total_cases'],data['new_cases'])\n",
    "plt.xlabel('total_cases')\n",
    "plt.ylabel('new_cases')\n",
    "plt.show()\n",
    "plt.clf()\n",
    "      \n",
    "\n",
    "plt.plot(data['total_cases'],data['total_deaths'])\n",
    "plt.xlabel('total_cases')\n",
    "plt.ylabel('total_deaths')\n",
    "plt.show()\n",
    "plt.clf()\n",
    "\n",
    "\n",
    "plt.plot(data['total_cases'],data['new_deaths'])\n",
    "plt.xlabel('total_cases')\n",
    "plt.ylabel('new_deaths')\n",
    "plt.show()\n",
    "plt.clf()\n",
    "            \n",
    "plt.plot(data['total_cases'],data['total_cases_per_million'])\n",
    "plt.xlabel('total_cases')\n",
    "plt.ylabel('total_cases_per_million')\n",
    "plt.show()\n",
    "plt.clf()\n",
    "\n",
    "plt.plot(data['total_cases'],data['stringency_index'])\n",
    "plt.xlabel('total_cases')\n",
    "plt.ylabel('stringency_index')\n",
    "plt.show()\n",
    "plt.clf()\n",
    "\n",
    "plt.plot(data['total_cases'],data['positive_rate'])\n",
    "plt.xlabel('total_cases')\n",
    "plt.ylabel('positive_rate')\n",
    "plt.show()\n",
    "plt.clf()\n",
    "\n",
    "plt.plot(data['total_cases'],data['new_tests_per_thousand'])\n",
    "plt.xlabel('total_cases')\n",
    "plt.ylabel('new_tests_per_thousand')\n",
    "plt.show()\n",
    "plt.clf()\n",
    "\n",
    "plt.plot(data['total_cases'],data['tests_per_case'])\n",
    "plt.xlabel('total_cases')\n",
    "plt.ylabel('tests_per_case')\n",
    "plt.show()\n",
    "plt.clf()\n",
    "\n",
    "plt.plot(data['total_cases'],data['new_cases_per_million'])\n",
    "plt.xlabel('total_cases')\n",
    "plt.ylabel('new_cases_per_million')\n",
    "plt.show()\n",
    "plt.clf()\n",
    "\n",
    "plt.plot(data['total_cases'],data['total_deaths_per_million'])\n",
    "plt.xlabel('total_cases')\n",
    "plt.ylabel('total_deaths_per_million')\n",
    "plt.show()\n",
    "plt.clf()"
   ]
  },
  {
   "cell_type": "markdown",
   "metadata": {},
   "source": [
    "# 6. Converting the date column to ordinal"
   ]
  },
  {
   "cell_type": "code",
   "execution_count": 85,
   "metadata": {},
   "outputs": [],
   "source": [
    "import datetime as dt"
   ]
  },
  {
   "cell_type": "code",
   "execution_count": 86,
   "metadata": {},
   "outputs": [],
   "source": [
    "data[\"date\"]=pd.to_datetime(data[\"date\"])\n",
    "data[\"date\"]=data[\"date\"].map(dt.datetime.toordinal)"
   ]
  },
  {
   "cell_type": "code",
   "execution_count": 87,
   "metadata": {},
   "outputs": [
    {
     "data": {
      "text/html": [
       "<div>\n",
       "<style scoped>\n",
       "    .dataframe tbody tr th:only-of-type {\n",
       "        vertical-align: middle;\n",
       "    }\n",
       "\n",
       "    .dataframe tbody tr th {\n",
       "        vertical-align: top;\n",
       "    }\n",
       "\n",
       "    .dataframe thead th {\n",
       "        text-align: right;\n",
       "    }\n",
       "</style>\n",
       "<table border=\"1\" class=\"dataframe\">\n",
       "  <thead>\n",
       "    <tr style=\"text-align: right;\">\n",
       "      <th></th>\n",
       "      <th>iso_code</th>\n",
       "      <th>continent</th>\n",
       "      <th>location</th>\n",
       "      <th>date</th>\n",
       "      <th>total_cases</th>\n",
       "      <th>new_cases</th>\n",
       "      <th>total_deaths</th>\n",
       "      <th>new_deaths</th>\n",
       "      <th>total_cases_per_million</th>\n",
       "      <th>new_cases_per_million</th>\n",
       "      <th>...</th>\n",
       "      <th>aged_70_older</th>\n",
       "      <th>gdp_per_capita</th>\n",
       "      <th>extreme_poverty</th>\n",
       "      <th>cardiovasc_death_rate</th>\n",
       "      <th>diabetes_prevalence</th>\n",
       "      <th>female_smokers</th>\n",
       "      <th>male_smokers</th>\n",
       "      <th>handwashing_facilities</th>\n",
       "      <th>hospital_beds_per_thousand</th>\n",
       "      <th>life_expectancy</th>\n",
       "    </tr>\n",
       "  </thead>\n",
       "  <tbody>\n",
       "    <tr>\n",
       "      <td>15577</td>\n",
       "      <td>IND</td>\n",
       "      <td>Asia</td>\n",
       "      <td>India</td>\n",
       "      <td>737424</td>\n",
       "      <td>0.0</td>\n",
       "      <td>0.0</td>\n",
       "      <td>0.0</td>\n",
       "      <td>0.0</td>\n",
       "      <td>0.0</td>\n",
       "      <td>0.0</td>\n",
       "      <td>...</td>\n",
       "      <td>3.414</td>\n",
       "      <td>6426.674</td>\n",
       "      <td>21.2</td>\n",
       "      <td>282.28</td>\n",
       "      <td>10.39</td>\n",
       "      <td>1.9</td>\n",
       "      <td>20.6</td>\n",
       "      <td>59.55</td>\n",
       "      <td>0.53</td>\n",
       "      <td>69.66</td>\n",
       "    </tr>\n",
       "    <tr>\n",
       "      <td>15578</td>\n",
       "      <td>IND</td>\n",
       "      <td>Asia</td>\n",
       "      <td>India</td>\n",
       "      <td>737425</td>\n",
       "      <td>0.0</td>\n",
       "      <td>0.0</td>\n",
       "      <td>0.0</td>\n",
       "      <td>0.0</td>\n",
       "      <td>0.0</td>\n",
       "      <td>0.0</td>\n",
       "      <td>...</td>\n",
       "      <td>3.414</td>\n",
       "      <td>6426.674</td>\n",
       "      <td>21.2</td>\n",
       "      <td>282.28</td>\n",
       "      <td>10.39</td>\n",
       "      <td>1.9</td>\n",
       "      <td>20.6</td>\n",
       "      <td>59.55</td>\n",
       "      <td>0.53</td>\n",
       "      <td>69.66</td>\n",
       "    </tr>\n",
       "    <tr>\n",
       "      <td>15579</td>\n",
       "      <td>IND</td>\n",
       "      <td>Asia</td>\n",
       "      <td>India</td>\n",
       "      <td>737426</td>\n",
       "      <td>0.0</td>\n",
       "      <td>0.0</td>\n",
       "      <td>0.0</td>\n",
       "      <td>0.0</td>\n",
       "      <td>0.0</td>\n",
       "      <td>0.0</td>\n",
       "      <td>...</td>\n",
       "      <td>3.414</td>\n",
       "      <td>6426.674</td>\n",
       "      <td>21.2</td>\n",
       "      <td>282.28</td>\n",
       "      <td>10.39</td>\n",
       "      <td>1.9</td>\n",
       "      <td>20.6</td>\n",
       "      <td>59.55</td>\n",
       "      <td>0.53</td>\n",
       "      <td>69.66</td>\n",
       "    </tr>\n",
       "    <tr>\n",
       "      <td>15580</td>\n",
       "      <td>IND</td>\n",
       "      <td>Asia</td>\n",
       "      <td>India</td>\n",
       "      <td>737427</td>\n",
       "      <td>0.0</td>\n",
       "      <td>0.0</td>\n",
       "      <td>0.0</td>\n",
       "      <td>0.0</td>\n",
       "      <td>0.0</td>\n",
       "      <td>0.0</td>\n",
       "      <td>...</td>\n",
       "      <td>3.414</td>\n",
       "      <td>6426.674</td>\n",
       "      <td>21.2</td>\n",
       "      <td>282.28</td>\n",
       "      <td>10.39</td>\n",
       "      <td>1.9</td>\n",
       "      <td>20.6</td>\n",
       "      <td>59.55</td>\n",
       "      <td>0.53</td>\n",
       "      <td>69.66</td>\n",
       "    </tr>\n",
       "    <tr>\n",
       "      <td>15581</td>\n",
       "      <td>IND</td>\n",
       "      <td>Asia</td>\n",
       "      <td>India</td>\n",
       "      <td>737428</td>\n",
       "      <td>0.0</td>\n",
       "      <td>0.0</td>\n",
       "      <td>0.0</td>\n",
       "      <td>0.0</td>\n",
       "      <td>0.0</td>\n",
       "      <td>0.0</td>\n",
       "      <td>...</td>\n",
       "      <td>3.414</td>\n",
       "      <td>6426.674</td>\n",
       "      <td>21.2</td>\n",
       "      <td>282.28</td>\n",
       "      <td>10.39</td>\n",
       "      <td>1.9</td>\n",
       "      <td>20.6</td>\n",
       "      <td>59.55</td>\n",
       "      <td>0.53</td>\n",
       "      <td>69.66</td>\n",
       "    </tr>\n",
       "  </tbody>\n",
       "</table>\n",
       "<p>5 rows × 36 columns</p>\n",
       "</div>"
      ],
      "text/plain": [
       "      iso_code continent location    date  total_cases  new_cases  \\\n",
       "15577      IND      Asia    India  737424          0.0        0.0   \n",
       "15578      IND      Asia    India  737425          0.0        0.0   \n",
       "15579      IND      Asia    India  737426          0.0        0.0   \n",
       "15580      IND      Asia    India  737427          0.0        0.0   \n",
       "15581      IND      Asia    India  737428          0.0        0.0   \n",
       "\n",
       "       total_deaths  new_deaths  total_cases_per_million  \\\n",
       "15577           0.0         0.0                      0.0   \n",
       "15578           0.0         0.0                      0.0   \n",
       "15579           0.0         0.0                      0.0   \n",
       "15580           0.0         0.0                      0.0   \n",
       "15581           0.0         0.0                      0.0   \n",
       "\n",
       "       new_cases_per_million  ...  aged_70_older  gdp_per_capita  \\\n",
       "15577                    0.0  ...          3.414        6426.674   \n",
       "15578                    0.0  ...          3.414        6426.674   \n",
       "15579                    0.0  ...          3.414        6426.674   \n",
       "15580                    0.0  ...          3.414        6426.674   \n",
       "15581                    0.0  ...          3.414        6426.674   \n",
       "\n",
       "       extreme_poverty  cardiovasc_death_rate  diabetes_prevalence  \\\n",
       "15577             21.2                 282.28                10.39   \n",
       "15578             21.2                 282.28                10.39   \n",
       "15579             21.2                 282.28                10.39   \n",
       "15580             21.2                 282.28                10.39   \n",
       "15581             21.2                 282.28                10.39   \n",
       "\n",
       "       female_smokers  male_smokers  handwashing_facilities  \\\n",
       "15577             1.9          20.6                   59.55   \n",
       "15578             1.9          20.6                   59.55   \n",
       "15579             1.9          20.6                   59.55   \n",
       "15580             1.9          20.6                   59.55   \n",
       "15581             1.9          20.6                   59.55   \n",
       "\n",
       "       hospital_beds_per_thousand  life_expectancy  \n",
       "15577                        0.53            69.66  \n",
       "15578                        0.53            69.66  \n",
       "15579                        0.53            69.66  \n",
       "15580                        0.53            69.66  \n",
       "15581                        0.53            69.66  \n",
       "\n",
       "[5 rows x 36 columns]"
      ]
     },
     "execution_count": 87,
     "metadata": {},
     "output_type": "execute_result"
    }
   ],
   "source": [
    "data.head(5)"
   ]
  },
  {
   "cell_type": "markdown",
   "metadata": {},
   "source": [
    "# 7. Dropping useless categorical columns, and converting useful categorical to numerical by LabelEncoder"
   ]
  },
  {
   "cell_type": "code",
   "execution_count": 88,
   "metadata": {},
   "outputs": [],
   "source": [
    "data = data.drop(['iso_code','continent','location','tests_units'],axis = 1)"
   ]
  },
  {
   "cell_type": "code",
   "execution_count": 89,
   "metadata": {},
   "outputs": [
    {
     "data": {
      "text/html": [
       "<div>\n",
       "<style scoped>\n",
       "    .dataframe tbody tr th:only-of-type {\n",
       "        vertical-align: middle;\n",
       "    }\n",
       "\n",
       "    .dataframe tbody tr th {\n",
       "        vertical-align: top;\n",
       "    }\n",
       "\n",
       "    .dataframe thead th {\n",
       "        text-align: right;\n",
       "    }\n",
       "</style>\n",
       "<table border=\"1\" class=\"dataframe\">\n",
       "  <thead>\n",
       "    <tr style=\"text-align: right;\">\n",
       "      <th></th>\n",
       "      <th>date</th>\n",
       "      <th>total_cases</th>\n",
       "      <th>new_cases</th>\n",
       "      <th>total_deaths</th>\n",
       "      <th>new_deaths</th>\n",
       "      <th>total_cases_per_million</th>\n",
       "      <th>new_cases_per_million</th>\n",
       "      <th>total_deaths_per_million</th>\n",
       "      <th>new_deaths_per_million</th>\n",
       "      <th>new_tests</th>\n",
       "      <th>...</th>\n",
       "      <th>aged_70_older</th>\n",
       "      <th>gdp_per_capita</th>\n",
       "      <th>extreme_poverty</th>\n",
       "      <th>cardiovasc_death_rate</th>\n",
       "      <th>diabetes_prevalence</th>\n",
       "      <th>female_smokers</th>\n",
       "      <th>male_smokers</th>\n",
       "      <th>handwashing_facilities</th>\n",
       "      <th>hospital_beds_per_thousand</th>\n",
       "      <th>life_expectancy</th>\n",
       "    </tr>\n",
       "  </thead>\n",
       "  <tbody>\n",
       "    <tr>\n",
       "      <td>15577</td>\n",
       "      <td>737424</td>\n",
       "      <td>0.0</td>\n",
       "      <td>0.0</td>\n",
       "      <td>0.0</td>\n",
       "      <td>0.0</td>\n",
       "      <td>0.0</td>\n",
       "      <td>0.0</td>\n",
       "      <td>0.0</td>\n",
       "      <td>0.0</td>\n",
       "      <td>157.0</td>\n",
       "      <td>...</td>\n",
       "      <td>3.414</td>\n",
       "      <td>6426.674</td>\n",
       "      <td>21.2</td>\n",
       "      <td>282.28</td>\n",
       "      <td>10.39</td>\n",
       "      <td>1.9</td>\n",
       "      <td>20.6</td>\n",
       "      <td>59.55</td>\n",
       "      <td>0.53</td>\n",
       "      <td>69.66</td>\n",
       "    </tr>\n",
       "    <tr>\n",
       "      <td>15578</td>\n",
       "      <td>737425</td>\n",
       "      <td>0.0</td>\n",
       "      <td>0.0</td>\n",
       "      <td>0.0</td>\n",
       "      <td>0.0</td>\n",
       "      <td>0.0</td>\n",
       "      <td>0.0</td>\n",
       "      <td>0.0</td>\n",
       "      <td>0.0</td>\n",
       "      <td>157.0</td>\n",
       "      <td>...</td>\n",
       "      <td>3.414</td>\n",
       "      <td>6426.674</td>\n",
       "      <td>21.2</td>\n",
       "      <td>282.28</td>\n",
       "      <td>10.39</td>\n",
       "      <td>1.9</td>\n",
       "      <td>20.6</td>\n",
       "      <td>59.55</td>\n",
       "      <td>0.53</td>\n",
       "      <td>69.66</td>\n",
       "    </tr>\n",
       "    <tr>\n",
       "      <td>15579</td>\n",
       "      <td>737426</td>\n",
       "      <td>0.0</td>\n",
       "      <td>0.0</td>\n",
       "      <td>0.0</td>\n",
       "      <td>0.0</td>\n",
       "      <td>0.0</td>\n",
       "      <td>0.0</td>\n",
       "      <td>0.0</td>\n",
       "      <td>0.0</td>\n",
       "      <td>157.0</td>\n",
       "      <td>...</td>\n",
       "      <td>3.414</td>\n",
       "      <td>6426.674</td>\n",
       "      <td>21.2</td>\n",
       "      <td>282.28</td>\n",
       "      <td>10.39</td>\n",
       "      <td>1.9</td>\n",
       "      <td>20.6</td>\n",
       "      <td>59.55</td>\n",
       "      <td>0.53</td>\n",
       "      <td>69.66</td>\n",
       "    </tr>\n",
       "    <tr>\n",
       "      <td>15580</td>\n",
       "      <td>737427</td>\n",
       "      <td>0.0</td>\n",
       "      <td>0.0</td>\n",
       "      <td>0.0</td>\n",
       "      <td>0.0</td>\n",
       "      <td>0.0</td>\n",
       "      <td>0.0</td>\n",
       "      <td>0.0</td>\n",
       "      <td>0.0</td>\n",
       "      <td>157.0</td>\n",
       "      <td>...</td>\n",
       "      <td>3.414</td>\n",
       "      <td>6426.674</td>\n",
       "      <td>21.2</td>\n",
       "      <td>282.28</td>\n",
       "      <td>10.39</td>\n",
       "      <td>1.9</td>\n",
       "      <td>20.6</td>\n",
       "      <td>59.55</td>\n",
       "      <td>0.53</td>\n",
       "      <td>69.66</td>\n",
       "    </tr>\n",
       "    <tr>\n",
       "      <td>15581</td>\n",
       "      <td>737428</td>\n",
       "      <td>0.0</td>\n",
       "      <td>0.0</td>\n",
       "      <td>0.0</td>\n",
       "      <td>0.0</td>\n",
       "      <td>0.0</td>\n",
       "      <td>0.0</td>\n",
       "      <td>0.0</td>\n",
       "      <td>0.0</td>\n",
       "      <td>157.0</td>\n",
       "      <td>...</td>\n",
       "      <td>3.414</td>\n",
       "      <td>6426.674</td>\n",
       "      <td>21.2</td>\n",
       "      <td>282.28</td>\n",
       "      <td>10.39</td>\n",
       "      <td>1.9</td>\n",
       "      <td>20.6</td>\n",
       "      <td>59.55</td>\n",
       "      <td>0.53</td>\n",
       "      <td>69.66</td>\n",
       "    </tr>\n",
       "  </tbody>\n",
       "</table>\n",
       "<p>5 rows × 32 columns</p>\n",
       "</div>"
      ],
      "text/plain": [
       "         date  total_cases  new_cases  total_deaths  new_deaths  \\\n",
       "15577  737424          0.0        0.0           0.0         0.0   \n",
       "15578  737425          0.0        0.0           0.0         0.0   \n",
       "15579  737426          0.0        0.0           0.0         0.0   \n",
       "15580  737427          0.0        0.0           0.0         0.0   \n",
       "15581  737428          0.0        0.0           0.0         0.0   \n",
       "\n",
       "       total_cases_per_million  new_cases_per_million  \\\n",
       "15577                      0.0                    0.0   \n",
       "15578                      0.0                    0.0   \n",
       "15579                      0.0                    0.0   \n",
       "15580                      0.0                    0.0   \n",
       "15581                      0.0                    0.0   \n",
       "\n",
       "       total_deaths_per_million  new_deaths_per_million  new_tests  ...  \\\n",
       "15577                       0.0                     0.0      157.0  ...   \n",
       "15578                       0.0                     0.0      157.0  ...   \n",
       "15579                       0.0                     0.0      157.0  ...   \n",
       "15580                       0.0                     0.0      157.0  ...   \n",
       "15581                       0.0                     0.0      157.0  ...   \n",
       "\n",
       "       aged_70_older  gdp_per_capita  extreme_poverty  cardiovasc_death_rate  \\\n",
       "15577          3.414        6426.674             21.2                 282.28   \n",
       "15578          3.414        6426.674             21.2                 282.28   \n",
       "15579          3.414        6426.674             21.2                 282.28   \n",
       "15580          3.414        6426.674             21.2                 282.28   \n",
       "15581          3.414        6426.674             21.2                 282.28   \n",
       "\n",
       "       diabetes_prevalence  female_smokers  male_smokers  \\\n",
       "15577                10.39             1.9          20.6   \n",
       "15578                10.39             1.9          20.6   \n",
       "15579                10.39             1.9          20.6   \n",
       "15580                10.39             1.9          20.6   \n",
       "15581                10.39             1.9          20.6   \n",
       "\n",
       "       handwashing_facilities  hospital_beds_per_thousand  life_expectancy  \n",
       "15577                   59.55                        0.53            69.66  \n",
       "15578                   59.55                        0.53            69.66  \n",
       "15579                   59.55                        0.53            69.66  \n",
       "15580                   59.55                        0.53            69.66  \n",
       "15581                   59.55                        0.53            69.66  \n",
       "\n",
       "[5 rows x 32 columns]"
      ]
     },
     "execution_count": 89,
     "metadata": {},
     "output_type": "execute_result"
    }
   ],
   "source": [
    "data.head(5)"
   ]
  },
  {
   "cell_type": "markdown",
   "metadata": {},
   "source": [
    "# 8. Selecting the “total_cases” column as the target variable"
   ]
  },
  {
   "cell_type": "code",
   "execution_count": 90,
   "metadata": {},
   "outputs": [],
   "source": [
    "target = data['total_cases'].values"
   ]
  },
  {
   "cell_type": "markdown",
   "metadata": {},
   "source": [
    "# 9. Selecting the other columns as the features"
   ]
  },
  {
   "cell_type": "code",
   "execution_count": 91,
   "metadata": {},
   "outputs": [],
   "source": [
    "X = data.drop(['total_cases'],axis = 1).values"
   ]
  },
  {
   "cell_type": "markdown",
   "metadata": {},
   "source": [
    "# 10. Performing the train-test split on the dataset"
   ]
  },
  {
   "cell_type": "code",
   "execution_count": 92,
   "metadata": {},
   "outputs": [],
   "source": [
    "from sklearn.model_selection import train_test_split"
   ]
  },
  {
   "cell_type": "code",
   "execution_count": 93,
   "metadata": {},
   "outputs": [],
   "source": [
    "X_train,X_test,y_train,y_test = train_test_split(X,target,test_size = 0.2,random_state = 42)"
   ]
  },
  {
   "cell_type": "markdown",
   "metadata": {},
   "source": [
    "# 11. Modelling:\n",
    "### a. Linear Regression"
   ]
  },
  {
   "cell_type": "code",
   "execution_count": 94,
   "metadata": {},
   "outputs": [],
   "source": [
    "from sklearn.linear_model import LinearRegression"
   ]
  },
  {
   "cell_type": "code",
   "execution_count": 95,
   "metadata": {},
   "outputs": [],
   "source": [
    "lr = LinearRegression()"
   ]
  },
  {
   "cell_type": "code",
   "execution_count": 96,
   "metadata": {},
   "outputs": [
    {
     "data": {
      "text/plain": [
       "LinearRegression()"
      ]
     },
     "execution_count": 96,
     "metadata": {},
     "output_type": "execute_result"
    }
   ],
   "source": [
    "lr.fit(X_train,y_train)"
   ]
  },
  {
   "cell_type": "markdown",
   "metadata": {},
   "source": [
    "### b. Random Forest Regressor"
   ]
  },
  {
   "cell_type": "code",
   "execution_count": 97,
   "metadata": {},
   "outputs": [],
   "source": [
    "from sklearn.ensemble import RandomForestRegressor"
   ]
  },
  {
   "cell_type": "code",
   "execution_count": 98,
   "metadata": {},
   "outputs": [],
   "source": [
    "rfr = RandomForestRegressor()"
   ]
  },
  {
   "cell_type": "code",
   "execution_count": 99,
   "metadata": {},
   "outputs": [
    {
     "data": {
      "text/plain": [
       "RandomForestRegressor()"
      ]
     },
     "execution_count": 99,
     "metadata": {},
     "output_type": "execute_result"
    }
   ],
   "source": [
    "rfr.fit(X_train,y_train)"
   ]
  },
  {
   "cell_type": "markdown",
   "metadata": {},
   "source": [
    "# 12. Getting the accuracy of each model"
   ]
  },
  {
   "cell_type": "code",
   "execution_count": 100,
   "metadata": {},
   "outputs": [
    {
     "data": {
      "text/plain": [
       "99.9999999999511"
      ]
     },
     "execution_count": 100,
     "metadata": {},
     "output_type": "execute_result"
    }
   ],
   "source": [
    "lr.score(X_test,y_test)*100"
   ]
  },
  {
   "cell_type": "code",
   "execution_count": 101,
   "metadata": {},
   "outputs": [
    {
     "data": {
      "text/plain": [
       "99.91864873183462"
      ]
     },
     "execution_count": 101,
     "metadata": {},
     "output_type": "execute_result"
    }
   ],
   "source": [
    "rfr.score(X_test,y_test)*100"
   ]
  },
  {
   "cell_type": "markdown",
   "metadata": {},
   "source": [
    "# 13. Predicting the total cases for a new given date"
   ]
  },
  {
   "cell_type": "code",
   "execution_count": 102,
   "metadata": {},
   "outputs": [],
   "source": [
    "new_data = pd.read_csv(\"test_data.csv\")"
   ]
  },
  {
   "cell_type": "code",
   "execution_count": 103,
   "metadata": {},
   "outputs": [
    {
     "data": {
      "text/html": [
       "<div>\n",
       "<style scoped>\n",
       "    .dataframe tbody tr th:only-of-type {\n",
       "        vertical-align: middle;\n",
       "    }\n",
       "\n",
       "    .dataframe tbody tr th {\n",
       "        vertical-align: top;\n",
       "    }\n",
       "\n",
       "    .dataframe thead th {\n",
       "        text-align: right;\n",
       "    }\n",
       "</style>\n",
       "<table border=\"1\" class=\"dataframe\">\n",
       "  <thead>\n",
       "    <tr style=\"text-align: right;\">\n",
       "      <th></th>\n",
       "      <th>iso_code</th>\n",
       "      <th>continent</th>\n",
       "      <th>location</th>\n",
       "      <th>date</th>\n",
       "      <th>new_cases</th>\n",
       "      <th>total_deaths</th>\n",
       "      <th>new_deaths</th>\n",
       "      <th>total_cases_per_million</th>\n",
       "      <th>new_cases_per_million</th>\n",
       "      <th>total_deaths_per_million</th>\n",
       "      <th>...</th>\n",
       "      <th>aged_70_older</th>\n",
       "      <th>gdp_per_capita</th>\n",
       "      <th>extreme_poverty</th>\n",
       "      <th>cardiovasc_death_rate</th>\n",
       "      <th>diabetes_prevalence</th>\n",
       "      <th>female_smokers</th>\n",
       "      <th>male_smokers</th>\n",
       "      <th>handwashing_facilities</th>\n",
       "      <th>hospital_beds_per_thousand</th>\n",
       "      <th>life_expectancy</th>\n",
       "    </tr>\n",
       "  </thead>\n",
       "  <tbody>\n",
       "    <tr>\n",
       "      <td>0</td>\n",
       "      <td>IND</td>\n",
       "      <td>Asia</td>\n",
       "      <td>India</td>\n",
       "      <td>2020-08-12</td>\n",
       "      <td>64399.0</td>\n",
       "      <td>43379.0</td>\n",
       "      <td>861.0</td>\n",
       "      <td>1560.147</td>\n",
       "      <td>46.666</td>\n",
       "      <td>31.434</td>\n",
       "      <td>...</td>\n",
       "      <td>3.414</td>\n",
       "      <td>6426.674</td>\n",
       "      <td>21.2</td>\n",
       "      <td>282.28</td>\n",
       "      <td>10.39</td>\n",
       "      <td>1.9</td>\n",
       "      <td>20.6</td>\n",
       "      <td>59.55</td>\n",
       "      <td>0.53</td>\n",
       "      <td>69.66</td>\n",
       "    </tr>\n",
       "    <tr>\n",
       "      <td>1</td>\n",
       "      <td>IND</td>\n",
       "      <td>Asia</td>\n",
       "      <td>India</td>\n",
       "      <td>2020-08-13</td>\n",
       "      <td>62064.0</td>\n",
       "      <td>44386.0</td>\n",
       "      <td>1007.0</td>\n",
       "      <td>1605.121</td>\n",
       "      <td>44.974</td>\n",
       "      <td>32.164</td>\n",
       "      <td>...</td>\n",
       "      <td>3.414</td>\n",
       "      <td>6426.674</td>\n",
       "      <td>21.2</td>\n",
       "      <td>282.28</td>\n",
       "      <td>10.39</td>\n",
       "      <td>1.9</td>\n",
       "      <td>20.6</td>\n",
       "      <td>59.55</td>\n",
       "      <td>0.53</td>\n",
       "      <td>69.66</td>\n",
       "    </tr>\n",
       "  </tbody>\n",
       "</table>\n",
       "<p>2 rows × 35 columns</p>\n",
       "</div>"
      ],
      "text/plain": [
       "  iso_code continent location        date  new_cases  total_deaths  \\\n",
       "0      IND      Asia    India  2020-08-12    64399.0       43379.0   \n",
       "1      IND      Asia    India  2020-08-13    62064.0       44386.0   \n",
       "\n",
       "   new_deaths  total_cases_per_million  new_cases_per_million  \\\n",
       "0       861.0                 1560.147                 46.666   \n",
       "1      1007.0                 1605.121                 44.974   \n",
       "\n",
       "   total_deaths_per_million  ...  aged_70_older  gdp_per_capita  \\\n",
       "0                    31.434  ...          3.414        6426.674   \n",
       "1                    32.164  ...          3.414        6426.674   \n",
       "\n",
       "   extreme_poverty  cardiovasc_death_rate  diabetes_prevalence  \\\n",
       "0             21.2                 282.28                10.39   \n",
       "1             21.2                 282.28                10.39   \n",
       "\n",
       "   female_smokers  male_smokers  handwashing_facilities  \\\n",
       "0             1.9          20.6                   59.55   \n",
       "1             1.9          20.6                   59.55   \n",
       "\n",
       "   hospital_beds_per_thousand life_expectancy  \n",
       "0                        0.53           69.66  \n",
       "1                        0.53           69.66  \n",
       "\n",
       "[2 rows x 35 columns]"
      ]
     },
     "execution_count": 103,
     "metadata": {},
     "output_type": "execute_result"
    }
   ],
   "source": [
    "new_data"
   ]
  },
  {
   "cell_type": "code",
   "execution_count": 104,
   "metadata": {},
   "outputs": [],
   "source": [
    "new_data = new_data.drop(['iso_code','continent','location','tests_units'],axis = 1)"
   ]
  },
  {
   "cell_type": "code",
   "execution_count": 105,
   "metadata": {},
   "outputs": [
    {
     "data": {
      "text/html": [
       "<div>\n",
       "<style scoped>\n",
       "    .dataframe tbody tr th:only-of-type {\n",
       "        vertical-align: middle;\n",
       "    }\n",
       "\n",
       "    .dataframe tbody tr th {\n",
       "        vertical-align: top;\n",
       "    }\n",
       "\n",
       "    .dataframe thead th {\n",
       "        text-align: right;\n",
       "    }\n",
       "</style>\n",
       "<table border=\"1\" class=\"dataframe\">\n",
       "  <thead>\n",
       "    <tr style=\"text-align: right;\">\n",
       "      <th></th>\n",
       "      <th>date</th>\n",
       "      <th>new_cases</th>\n",
       "      <th>total_deaths</th>\n",
       "      <th>new_deaths</th>\n",
       "      <th>total_cases_per_million</th>\n",
       "      <th>new_cases_per_million</th>\n",
       "      <th>total_deaths_per_million</th>\n",
       "      <th>new_deaths_per_million</th>\n",
       "      <th>new_tests</th>\n",
       "      <th>total_tests</th>\n",
       "      <th>...</th>\n",
       "      <th>aged_70_older</th>\n",
       "      <th>gdp_per_capita</th>\n",
       "      <th>extreme_poverty</th>\n",
       "      <th>cardiovasc_death_rate</th>\n",
       "      <th>diabetes_prevalence</th>\n",
       "      <th>female_smokers</th>\n",
       "      <th>male_smokers</th>\n",
       "      <th>handwashing_facilities</th>\n",
       "      <th>hospital_beds_per_thousand</th>\n",
       "      <th>life_expectancy</th>\n",
       "    </tr>\n",
       "  </thead>\n",
       "  <tbody>\n",
       "    <tr>\n",
       "      <td>0</td>\n",
       "      <td>2020-08-12</td>\n",
       "      <td>64399.0</td>\n",
       "      <td>43379.0</td>\n",
       "      <td>861.0</td>\n",
       "      <td>1560.147</td>\n",
       "      <td>46.666</td>\n",
       "      <td>31.434</td>\n",
       "      <td>0.624</td>\n",
       "      <td>719364.0</td>\n",
       "      <td>24106535.0</td>\n",
       "      <td>...</td>\n",
       "      <td>3.414</td>\n",
       "      <td>6426.674</td>\n",
       "      <td>21.2</td>\n",
       "      <td>282.28</td>\n",
       "      <td>10.39</td>\n",
       "      <td>1.9</td>\n",
       "      <td>20.6</td>\n",
       "      <td>59.55</td>\n",
       "      <td>0.53</td>\n",
       "      <td>69.66</td>\n",
       "    </tr>\n",
       "    <tr>\n",
       "      <td>1</td>\n",
       "      <td>2020-08-13</td>\n",
       "      <td>62064.0</td>\n",
       "      <td>44386.0</td>\n",
       "      <td>1007.0</td>\n",
       "      <td>1605.121</td>\n",
       "      <td>44.974</td>\n",
       "      <td>32.164</td>\n",
       "      <td>0.730</td>\n",
       "      <td>477023.0</td>\n",
       "      <td>24583558.0</td>\n",
       "      <td>...</td>\n",
       "      <td>3.414</td>\n",
       "      <td>6426.674</td>\n",
       "      <td>21.2</td>\n",
       "      <td>282.28</td>\n",
       "      <td>10.39</td>\n",
       "      <td>1.9</td>\n",
       "      <td>20.6</td>\n",
       "      <td>59.55</td>\n",
       "      <td>0.53</td>\n",
       "      <td>69.66</td>\n",
       "    </tr>\n",
       "  </tbody>\n",
       "</table>\n",
       "<p>2 rows × 31 columns</p>\n",
       "</div>"
      ],
      "text/plain": [
       "         date  new_cases  total_deaths  new_deaths  total_cases_per_million  \\\n",
       "0  2020-08-12    64399.0       43379.0       861.0                 1560.147   \n",
       "1  2020-08-13    62064.0       44386.0      1007.0                 1605.121   \n",
       "\n",
       "   new_cases_per_million  total_deaths_per_million  new_deaths_per_million  \\\n",
       "0                 46.666                    31.434                   0.624   \n",
       "1                 44.974                    32.164                   0.730   \n",
       "\n",
       "   new_tests  total_tests  ...  aged_70_older  gdp_per_capita  \\\n",
       "0   719364.0   24106535.0  ...          3.414        6426.674   \n",
       "1   477023.0   24583558.0  ...          3.414        6426.674   \n",
       "\n",
       "   extreme_poverty  cardiovasc_death_rate  diabetes_prevalence  \\\n",
       "0             21.2                 282.28                10.39   \n",
       "1             21.2                 282.28                10.39   \n",
       "\n",
       "   female_smokers  male_smokers  handwashing_facilities  \\\n",
       "0             1.9          20.6                   59.55   \n",
       "1             1.9          20.6                   59.55   \n",
       "\n",
       "   hospital_beds_per_thousand  life_expectancy  \n",
       "0                        0.53            69.66  \n",
       "1                        0.53            69.66  \n",
       "\n",
       "[2 rows x 31 columns]"
      ]
     },
     "execution_count": 105,
     "metadata": {},
     "output_type": "execute_result"
    }
   ],
   "source": [
    "new_data"
   ]
  },
  {
   "cell_type": "code",
   "execution_count": 106,
   "metadata": {},
   "outputs": [],
   "source": [
    "new_data[\"date\"]=pd.to_datetime(new_data[\"date\"])\n",
    "new_data[\"date\"]=new_data[\"date\"].map(dt.datetime.toordinal)"
   ]
  },
  {
   "cell_type": "code",
   "execution_count": 107,
   "metadata": {},
   "outputs": [
    {
     "data": {
      "text/html": [
       "<div>\n",
       "<style scoped>\n",
       "    .dataframe tbody tr th:only-of-type {\n",
       "        vertical-align: middle;\n",
       "    }\n",
       "\n",
       "    .dataframe tbody tr th {\n",
       "        vertical-align: top;\n",
       "    }\n",
       "\n",
       "    .dataframe thead th {\n",
       "        text-align: right;\n",
       "    }\n",
       "</style>\n",
       "<table border=\"1\" class=\"dataframe\">\n",
       "  <thead>\n",
       "    <tr style=\"text-align: right;\">\n",
       "      <th></th>\n",
       "      <th>date</th>\n",
       "      <th>new_cases</th>\n",
       "      <th>total_deaths</th>\n",
       "      <th>new_deaths</th>\n",
       "      <th>total_cases_per_million</th>\n",
       "      <th>new_cases_per_million</th>\n",
       "      <th>total_deaths_per_million</th>\n",
       "      <th>new_deaths_per_million</th>\n",
       "      <th>new_tests</th>\n",
       "      <th>total_tests</th>\n",
       "      <th>...</th>\n",
       "      <th>aged_70_older</th>\n",
       "      <th>gdp_per_capita</th>\n",
       "      <th>extreme_poverty</th>\n",
       "      <th>cardiovasc_death_rate</th>\n",
       "      <th>diabetes_prevalence</th>\n",
       "      <th>female_smokers</th>\n",
       "      <th>male_smokers</th>\n",
       "      <th>handwashing_facilities</th>\n",
       "      <th>hospital_beds_per_thousand</th>\n",
       "      <th>life_expectancy</th>\n",
       "    </tr>\n",
       "  </thead>\n",
       "  <tbody>\n",
       "    <tr>\n",
       "      <td>0</td>\n",
       "      <td>737649</td>\n",
       "      <td>64399.0</td>\n",
       "      <td>43379.0</td>\n",
       "      <td>861.0</td>\n",
       "      <td>1560.147</td>\n",
       "      <td>46.666</td>\n",
       "      <td>31.434</td>\n",
       "      <td>0.624</td>\n",
       "      <td>719364.0</td>\n",
       "      <td>24106535.0</td>\n",
       "      <td>...</td>\n",
       "      <td>3.414</td>\n",
       "      <td>6426.674</td>\n",
       "      <td>21.2</td>\n",
       "      <td>282.28</td>\n",
       "      <td>10.39</td>\n",
       "      <td>1.9</td>\n",
       "      <td>20.6</td>\n",
       "      <td>59.55</td>\n",
       "      <td>0.53</td>\n",
       "      <td>69.66</td>\n",
       "    </tr>\n",
       "    <tr>\n",
       "      <td>1</td>\n",
       "      <td>737650</td>\n",
       "      <td>62064.0</td>\n",
       "      <td>44386.0</td>\n",
       "      <td>1007.0</td>\n",
       "      <td>1605.121</td>\n",
       "      <td>44.974</td>\n",
       "      <td>32.164</td>\n",
       "      <td>0.730</td>\n",
       "      <td>477023.0</td>\n",
       "      <td>24583558.0</td>\n",
       "      <td>...</td>\n",
       "      <td>3.414</td>\n",
       "      <td>6426.674</td>\n",
       "      <td>21.2</td>\n",
       "      <td>282.28</td>\n",
       "      <td>10.39</td>\n",
       "      <td>1.9</td>\n",
       "      <td>20.6</td>\n",
       "      <td>59.55</td>\n",
       "      <td>0.53</td>\n",
       "      <td>69.66</td>\n",
       "    </tr>\n",
       "  </tbody>\n",
       "</table>\n",
       "<p>2 rows × 31 columns</p>\n",
       "</div>"
      ],
      "text/plain": [
       "     date  new_cases  total_deaths  new_deaths  total_cases_per_million  \\\n",
       "0  737649    64399.0       43379.0       861.0                 1560.147   \n",
       "1  737650    62064.0       44386.0      1007.0                 1605.121   \n",
       "\n",
       "   new_cases_per_million  total_deaths_per_million  new_deaths_per_million  \\\n",
       "0                 46.666                    31.434                   0.624   \n",
       "1                 44.974                    32.164                   0.730   \n",
       "\n",
       "   new_tests  total_tests  ...  aged_70_older  gdp_per_capita  \\\n",
       "0   719364.0   24106535.0  ...          3.414        6426.674   \n",
       "1   477023.0   24583558.0  ...          3.414        6426.674   \n",
       "\n",
       "   extreme_poverty  cardiovasc_death_rate  diabetes_prevalence  \\\n",
       "0             21.2                 282.28                10.39   \n",
       "1             21.2                 282.28                10.39   \n",
       "\n",
       "   female_smokers  male_smokers  handwashing_facilities  \\\n",
       "0             1.9          20.6                   59.55   \n",
       "1             1.9          20.6                   59.55   \n",
       "\n",
       "   hospital_beds_per_thousand  life_expectancy  \n",
       "0                        0.53            69.66  \n",
       "1                        0.53            69.66  \n",
       "\n",
       "[2 rows x 31 columns]"
      ]
     },
     "execution_count": 107,
     "metadata": {},
     "output_type": "execute_result"
    }
   ],
   "source": [
    "new_data"
   ]
  },
  {
   "cell_type": "code",
   "execution_count": 108,
   "metadata": {},
   "outputs": [
    {
     "data": {
      "text/plain": [
       "array([2153009.94257756, 2215074.04342782])"
      ]
     },
     "execution_count": 108,
     "metadata": {},
     "output_type": "execute_result"
    }
   ],
   "source": [
    "lr.predict(new_data)"
   ]
  },
  {
   "cell_type": "code",
   "execution_count": 109,
   "metadata": {},
   "outputs": [
    {
     "data": {
      "text/plain": [
       "array([2144278.  , 2175564.24])"
      ]
     },
     "execution_count": 109,
     "metadata": {},
     "output_type": "execute_result"
    }
   ],
   "source": [
    "rfr.predict(new_data)"
   ]
  },
  {
   "cell_type": "code",
   "execution_count": null,
   "metadata": {},
   "outputs": [],
   "source": []
  }
 ],
 "metadata": {
  "kernelspec": {
   "display_name": "Python 3",
   "language": "python",
   "name": "python3"
  },
  "language_info": {
   "codemirror_mode": {
    "name": "ipython",
    "version": 3
   },
   "file_extension": ".py",
   "mimetype": "text/x-python",
   "name": "python",
   "nbconvert_exporter": "python",
   "pygments_lexer": "ipython3",
   "version": "3.7.4"
  }
 },
 "nbformat": 4,
 "nbformat_minor": 2
}
